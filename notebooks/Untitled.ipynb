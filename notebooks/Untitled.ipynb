{
 "cells": [
  {
   "cell_type": "code",
   "execution_count": 19,
   "metadata": {},
   "outputs": [],
   "source": [
    "import pandas as pd\n",
    "import os\n",
    "from bs4 import BeautifulSoup"
   ]
  },
  {
   "cell_type": "code",
   "execution_count": 32,
   "metadata": {},
   "outputs": [
    {
     "data": {
      "text/plain": [
       "['This is a startup, which is at the research phase and is surviving on funding. My role is to use supervised regression based methods in order to predict the spectral output of a printing device given its inputs, as well as come up with creative ways to farther expand our predictive capabilities. Eventually we will apply these methods systematically to printing press clients.',\n",
       " 'Terapeak is primarily a company that uses e-commerce data to provide analytics to sellers. My role is to try and build the next generation service for the company. With a data science team, I am constructing unique and specific machine learning algorithms in order to make the service automatically generate statistics for the user that i... See more',\n",
       " 'Research Assistant (Theoretical Physics - String Theory)',\n",
       " 'I performed a research project on String Theory. Particularly, under certain limits in String Theory there\\'s a model called the \"Born Infeld Action\" that describes objects called \"D-branes\" whose coordinates are Hermitian matrices. I numerically solved for the coordinates of the D-branes in a particular configuration in four spatial di... See more',\n",
       " 'I was an assigned TA for several undergraduate physics classes. My three major tasks were lab coordinator, tutorial coordinator, and marker.',\n",
       " 'In the lab, I introduced the physics that motivates the experiment that the stu... See more']"
      ]
     },
     "execution_count": 32,
     "metadata": {},
     "output_type": "execute_result"
    }
   ],
   "source": [
    "data=pd.read_csv('../data/profiles.csv', encoding = \"ISO-8859-1\")\n",
    "# data.iloc[0].experience\n",
    "soup = BeautifulSoup(data.iloc[4].experience,'html5lib')\n",
    "experience_section = soup.get_text().split('\\n')\n",
    "experience_section = [summary for summary in experience_section if len(summary.split()) >= 6]\n",
    "experience_section"
   ]
  },
  {
   "cell_type": "code",
   "execution_count": null,
   "metadata": {},
   "outputs": [],
   "source": []
  }
 ],
 "metadata": {
  "kernelspec": {
   "display_name": "Python 3",
   "language": "python",
   "name": "python3"
  },
  "language_info": {
   "codemirror_mode": {
    "name": "ipython",
    "version": 3
   },
   "file_extension": ".py",
   "mimetype": "text/x-python",
   "name": "python",
   "nbconvert_exporter": "python",
   "pygments_lexer": "ipython3",
   "version": "3.6.8"
  }
 },
 "nbformat": 4,
 "nbformat_minor": 2
}
